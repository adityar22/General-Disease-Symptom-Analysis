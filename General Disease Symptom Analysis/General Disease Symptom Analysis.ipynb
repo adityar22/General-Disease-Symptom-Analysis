{
  "nbformat": 4,
  "nbformat_minor": 0,
  "metadata": {
    "colab": {
      "name": "TUGAS AIIIIII",
      "provenance": [],
      "collapsed_sections": []
    },
    "kernelspec": {
      "name": "python3",
      "display_name": "Python 3"
    },
    "language_info": {
      "name": "python"
    }
  },
  "cells": [
    {
      "cell_type": "markdown",
      "source": [
        ""
      ],
      "metadata": {
        "id": "x_AZGCeL_sEW"
      }
    },
    {
      "cell_type": "code",
      "source": [
        "from google.colab import files\n",
        "data_to_load = files.upload()"
      ],
      "metadata": {
        "colab": {
          "resources": {
            "http://localhost:8080/nbextensions/google.colab/files.js": {
              "data": "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",
              "ok": true,
              "headers": [
                [
                  "content-type",
                  "application/javascript"
                ]
              ],
              "status": 200,
              "status_text": ""
            }
          },
          "base_uri": "https://localhost:8080/",
          "height": 73
        },
        "id": "hlPG7WLjYrcm",
        "outputId": "91d45aeb-687c-4f99-ad9e-accdbc4744bc"
      },
      "execution_count": 2,
      "outputs": [
        {
          "output_type": "display_data",
          "data": {
            "text/plain": [
              "<IPython.core.display.HTML object>"
            ],
            "text/html": [
              "\n",
              "     <input type=\"file\" id=\"files-84a3f08d-8be4-4378-aec6-b78124e65e33\" name=\"files[]\" multiple disabled\n",
              "        style=\"border:none\" />\n",
              "     <output id=\"result-84a3f08d-8be4-4378-aec6-b78124e65e33\">\n",
              "      Upload widget is only available when the cell has been executed in the\n",
              "      current browser session. Please rerun this cell to enable.\n",
              "      </output>\n",
              "      <script src=\"/nbextensions/google.colab/files.js\"></script> "
            ]
          },
          "metadata": {}
        },
        {
          "output_type": "stream",
          "name": "stdout",
          "text": [
            "Saving Testing.csv to Testing.csv\n"
          ]
        }
      ]
    },
    {
      "cell_type": "code",
      "execution_count": 3,
      "metadata": {
        "id": "B9Sjhk-QX2HL"
      },
      "outputs": [],
      "source": [
        "from math import log\n",
        "from collections import defaultdict\n",
        "import json\n",
        "import pprint\n",
        "import csv"
      ]
    },
    {
      "cell_type": "code",
      "source": [
        "filename = \"Testing.csv\""
      ],
      "metadata": {
        "id": "XlizYhK9nqbp"
      },
      "execution_count": 4,
      "outputs": []
    },
    {
      "cell_type": "code",
      "source": [
        "def createDataSet():\n",
        "  features = []\n",
        "  dataset = []\n",
        "  with open(filename, 'r') as csvfile:\n",
        "    csvreader = csv.reader(csvfile)\n",
        "    features = next(csvreader)\n",
        "    \n",
        "    for row in csvreader:\n",
        "      dataset.append(row)\n",
        "  return dataset, features"
      ],
      "metadata": {
        "id": "R-FqixUHZfy2"
      },
      "execution_count": 5,
      "outputs": []
    },
    {
      "cell_type": "code",
      "source": [
        "def calcEntropy(dataset):\n",
        "  counter = defaultdict(int)\n",
        "  for record in dataset:\n",
        "    label = record[-1]\n",
        "    counter[label] += 1\n",
        "  entropy = 0.0\n",
        "  for key in counter:\n",
        "    probability = counter[key]/len(dataset)\n",
        "    entropy -= probability * log(probability, 2)\n",
        "  return entropy"
      ],
      "metadata": {
        "id": "geJSI1qlZ-BT"
      },
      "execution_count": 6,
      "outputs": []
    },
    {
      "cell_type": "code",
      "source": [
        "def splitDataset(dataSet, axis, value):\n",
        "  retDataSet = []\n",
        "  for featVec in dataSet:\n",
        "    if featVec[axis] == value:\n",
        "      reducedFeatVec = featVec[:axis]\n",
        "      reducedFeatVec.extend(featVec[axis+1:])\n",
        "      retDataSet.append(reducedFeatVec)\n",
        "  return retDataSet"
      ],
      "metadata": {
        "id": "Vbhgq9cmbACJ"
      },
      "execution_count": 7,
      "outputs": []
    },
    {
      "cell_type": "code",
      "source": [
        "def chooseBestFeatureToSplit(dataset):\n",
        "  baseEntropy = calcEntropy(dataset)\n",
        "  bestInfoGain = 0.0; bestFeature = -1\n",
        "\n",
        "  numFeat = len(dataset[0]) - 1\n",
        "  for indx in range(numFeat):\n",
        "    featValues = {record[indx] for record in dataset}\n",
        "    featEntropy = 0.0\n",
        "    for value in featValues:\n",
        "      subDataset = splitDataset(dataset, indx, value)\n",
        "      probability = len(subDataset)/float(len(dataset))\n",
        "      featEntropy += probability * calcEntropy(subDataset)\n",
        "    \n",
        "    infoGain = baseEntropy - featEntropy\n",
        "    if infoGain > bestInfoGain:\n",
        "      bestInfoGain = infoGain\n",
        "      bestFeature = indx\n",
        "  return bestFeature"
      ],
      "metadata": {
        "id": "1GJx2ZgDbyNO"
      },
      "execution_count": 8,
      "outputs": []
    },
    {
      "cell_type": "code",
      "source": [
        "def createTree(dataset, features):\n",
        "  labels = [record[-1] for record in dataset]\n",
        "  \n",
        "  #print(labels.count(labels[0]))\n",
        "  #print(len(labels))\n",
        "\n",
        "  if labels.count(labels[0]) == len(labels):\n",
        "    return labels[0]\n",
        "  if len(dataset[0]) == 1:\n",
        "    mjcount = max(labels, key=labels.count)\n",
        "    return (mjcount)\n",
        "  \n",
        "  bestFeat = chooseBestFeatureToSplit(dataset)\n",
        "  bestFeatLabel = features[bestFeat]\n",
        "  featValues = {record[bestFeat] for record in dataset}\n",
        "  subLabels = features[:]\n",
        "  del(subLabels[bestFeat])\n",
        "\n",
        "  myTree = {bestFeatLabel:{}}\n",
        "  for value in featValues:\n",
        "    subDataset = splitDataset(dataset, bestFeat, value)\n",
        "    subTree = createTree(subDataset, subLabels)\n",
        "    myTree[bestFeatLabel].update({value: subTree})\n",
        "  return myTree"
      ],
      "metadata": {
        "id": "XT9bJNsRbyBa"
      },
      "execution_count": 9,
      "outputs": []
    },
    {
      "cell_type": "code",
      "source": [
        "def predict(inputTree, features, testVec):\n",
        "  def classify(inputTree, testDict):\n",
        "    (key, subtree), = inputTree.items()\n",
        "    testValue = testDict.pop(key)\n",
        "    print(key)\n",
        "    print(testValue)\n",
        "    #print(testDict)\n",
        "    #print(len(subtree[testValue]))\n",
        "    if len(subtree[testValue]) != 1:\n",
        "      print(subtree[testValue])\n",
        "      return subtree[testValue]\n",
        "    else:\n",
        "      print(subtree[testValue])\n",
        "      return classify(subtree[testValue], testDict)\n",
        "  \n",
        "  testDict = dict(zip(features, testVec))\n",
        "  return classify(inputTree, testDict)"
      ],
      "metadata": {
        "id": "j_Z25pCUg8xL"
      },
      "execution_count": 10,
      "outputs": []
    },
    {
      "cell_type": "code",
      "source": [
        "def pprintTree(tree):\n",
        "  #pprint.pprint (tree)\n",
        "  tree_str = json.dumps(tree, indent=4)\n",
        "  tree_str = tree_str.replace(\"\\n    \", \"\\n\")\n",
        "  tree_str = tree_str.replace('\"', \"\")\n",
        "  tree_str = tree_str.replace(',', \"\")\n",
        "  tree_str = tree_str.replace(\"{\", \"\")\n",
        "  tree_str = tree_str.replace(\"}\", \"\")\n",
        "  tree_str = tree_str.replace(\"    \", \" | \")\n",
        "  tree_str = tree_str.replace(\"  \", \" \")    \n",
        "  print (tree_str)"
      ],
      "metadata": {
        "id": "1hZMI_K7hlhT"
      },
      "execution_count": 11,
      "outputs": []
    },
    {
      "cell_type": "code",
      "source": [
        "def main(testData):\n",
        "  dataset, features = createDataSet()\n",
        "  tree = createTree(dataset, features)\n",
        "  pprintTree(tree)\n",
        "  \n",
        "  for vec in testData:\n",
        "    pred = predict(tree, features, vec)\n",
        "    print(\"\\n From sample data given, its predicted that the disease will be \",pred)"
      ],
      "metadata": {
        "id": "lDZ7K274h8xT"
      },
      "execution_count": 12,
      "outputs": []
    },
    {
      "cell_type": "code",
      "source": [
        "datas, feat = createDataSet()\n",
        "sampleData = [1]*132\n",
        "count = 0\n",
        "for i in feat:\n",
        "  print(\"apakah ada gejala \",i,\"? 1/0\")\n",
        "  sampleData[count]=input()\n",
        "  count+=1\n",
        "#main(sampleData)"
      ],
      "metadata": {
        "id": "4diDk9yIvk_Z"
      },
      "execution_count": null,
      "outputs": []
    },
    {
      "cell_type": "code",
      "source": [
        ""
      ],
      "metadata": {
        "id": "ceiRX2m4m1fF"
      },
      "execution_count": null,
      "outputs": []
    },
    {
      "cell_type": "code",
      "source": [
        "testData = [('1', '0', '1', '0', '1', '0', '0', '0', '0', '0', '0', '1', '0', '0', '0', '0', '0', '0', '0', '0', '0', '0', '0', '0', '0', '0', '0', '0', '0', '0', '0', '0', '0', '0', '0', '0', '0', '0', '0', '0', '0', '0', '0', '0', '0', '0', '0', '0', '0', '0', '0', '0', '0', '0', '0', '0', '0', '0', '0', '0', '0', '0', '0', '0', '0', '0', '0', '0', '0', '0', '0', '0', '0', '0', '0', '0', '0', '0', '0', '0', '0', '0', '0', '0', '0', '0', '0', '0', '0', '0', '0', '0', '0', '0', '0', '0', '0', '0', '0', '0', '0', '0', '1', '0', '0', '0', '0', '0', '0', '0', '0', '0', '0', '0', '0', '0', '0', '0', '0', '0', '0', '0', '0', '0', '0', '0', '0', '0', '0', '0', '0', '0',)]\n",
        "main(testData)"
      ],
      "metadata": {
        "colab": {
          "base_uri": "https://localhost:8080/"
        },
        "id": "ckyXlc2b2_jn",
        "outputId": "ae4c6b9a-7955-46c1-e8c2-56f4c564e638"
      },
      "execution_count": 104,
      "outputs": [
        {
          "output_type": "stream",
          "name": "stdout",
          "text": [
            "\n",
            "vomiting: \n",
            " | 1: \n",
            " | | nausea: \n",
            " | | | 1: \n",
            " | | | | joint_pain: \n",
            " | | | | | 1: \n",
            " | | | | | | high_fever: \n",
            " | | | | | | | 1: \n",
            " | | | | | | | | skin_rash: \n",
            " | | | | | | | | | 1: Dengue\n",
            " | | | | | | | | | 0: Hepatitis E\n",
            " | | | | | | | | \n",
            " | | | | | | | \n",
            " | | | | | | | 0: \n",
            " | | | | | | | | fatigue: \n",
            " | | | | | | | | | 1: Hepatitis D\n",
            " | | | | | | | | | 0: hepatitis A\n",
            " | | | | | | | | \n",
            " | | | | | | | \n",
            " | | | | | | \n",
            " | | | | | \n",
            " | | | | | 0: \n",
            " | | | | | | chills: \n",
            " | | | | | | | 1: \n",
            " | | | | | | | | fatigue: \n",
            " | | | | | | | | | 1: Typhoid\n",
            " | | | | | | | | | 0: Malaria\n",
            " | | | | | | | | \n",
            " | | | | | | | \n",
            " | | | | | | | 0: \n",
            " | | | | | | | | itching: \n",
            " | | | | | | | | | 1: Chronic cholestasis\n",
            " | | | | | | | | | 0: \n",
            " | | | | | | | | | | fatigue: \n",
            " | | | | | | | | | | | 1: Hypoglycemia\n",
            " | | | | | | | | | | | 0: (vertigo) Paroymsal Positional Vertigo\n",
            " | | | | | | | | | | \n",
            " | | | | | | | | | \n",
            " | | | | | | | | \n",
            " | | | | | | | \n",
            " | | | | | | \n",
            " | | | | | \n",
            " | | | | \n",
            " | | | \n",
            " | | | 0: \n",
            " | | | | abdominal_pain: \n",
            " | | | | | 1: \n",
            " | | | | | | itching: \n",
            " | | | | | | | 1: Jaundice\n",
            " | | | | | | | 0: \n",
            " | | | | | | | | indigestion: \n",
            " | | | | | | | | | 1: Peptic ulcer diseae\n",
            " | | | | | | | | | 0: Alcoholic hepatitis\n",
            " | | | | | | | | \n",
            " | | | | | | | \n",
            " | | | | | | \n",
            " | | | | | \n",
            " | | | | | 0: \n",
            " | | | | | | cough: \n",
            " | | | | | | | 1: \n",
            " | | | | | | | | chills: \n",
            " | | | | | | | | | 1: Tuberculosis\n",
            " | | | | | | | | | 0: GERD\n",
            " | | | | | | | | \n",
            " | | | | | | | \n",
            " | | | | | | | 0: \n",
            " | | | | | | | | sunken_eyes: \n",
            " | | | | | | | | | 1: Gastroenteritis\n",
            " | | | | | | | | | 0: \n",
            " | | | | | | | | | | breathlessness: \n",
            " | | | | | | | | | | | 1: Heart attack\n",
            " | | | | | | | | | | | 0: Paralysis (brain hemorrhage)\n",
            " | | | | | | | | | | \n",
            " | | | | | | | | | \n",
            " | | | | | | | | \n",
            " | | | | | | | \n",
            " | | | | | | \n",
            " | | | | | \n",
            " | | | | \n",
            " | | | \n",
            " | | \n",
            " | \n",
            " | 0: \n",
            " | | fatigue: \n",
            " | | | 1: \n",
            " | | | | lethargy: \n",
            " | | | | | 1: \n",
            " | | | | | | itching: \n",
            " | | | | | | | 1: \n",
            " | | | | | | | | skin_rash: \n",
            " | | | | | | | | | 1: Chicken pox\n",
            " | | | | | | | | | 0: Hepatitis B\n",
            " | | | | | | | | \n",
            " | | | | | | | \n",
            " | | | | | | | 0: \n",
            " | | | | | | | | weight_gain: \n",
            " | | | | | | | | | 1: Hypothyroidism\n",
            " | | | | | | | | | 0: Diabetes \n",
            " | | | | | | | | \n",
            " | | | | | | | \n",
            " | | | | | | \n",
            " | | | | | \n",
            " | | | | | 0: \n",
            " | | | | | | cough: \n",
            " | | | | | | | 1: \n",
            " | | | | | | | | continuous_sneezing: \n",
            " | | | | | | | | | 1: Common Cold\n",
            " | | | | | | | | | 0: \n",
            " | | | | | | | | | | chills: \n",
            " | | | | | | | | | | | 1: Pneumonia\n",
            " | | | | | | | | | | | 0: Bronchial Asthma\n",
            " | | | | | | | | | | \n",
            " | | | | | | | | | \n",
            " | | | | | | | | \n",
            " | | | | | | | \n",
            " | | | | | | | 0: \n",
            " | | | | | | | | mood_swings: \n",
            " | | | | | | | | | 1: Hyperthyroidism\n",
            " | | | | | | | | | 0: \n",
            " | | | | | | | | | | yellowish_skin: \n",
            " | | | | | | | | | | | 1: Hepatitis C\n",
            " | | | | | | | | | | | 0: Varicose veins\n",
            " | | | | | | | | | | \n",
            " | | | | | | | | | \n",
            " | | | | | | | | \n",
            " | | | | | | | \n",
            " | | | | | | \n",
            " | | | | | \n",
            " | | | | \n",
            " | | | \n",
            " | | | 0: \n",
            " | | | | skin_rash: \n",
            " | | | | | 1: \n",
            " | | | | | | itching: \n",
            " | | | | | | | 1: \n",
            " | | | | | | | | nodal_skin_eruptions: \n",
            " | | | | | | | | | 1: Fungal infection\n",
            " | | | | | | | | | 0: Drug Reaction\n",
            " | | | | | | | | \n",
            " | | | | | | | \n",
            " | | | | | | | 0: \n",
            " | | | | | | | | joint_pain: \n",
            " | | | | | | | | | 1: Psoriasis\n",
            " | | | | | | | | | 0: \n",
            " | | | | | | | | | | high_fever: \n",
            " | | | | | | | | | | | 1: Impetigo\n",
            " | | | | | | | | | | | 0: Acne\n",
            " | | | | | | | | | | \n",
            " | | | | | | | | | \n",
            " | | | | | | | | \n",
            " | | | | | | | \n",
            " | | | | | | \n",
            " | | | | | \n",
            " | | | | | 0: \n",
            " | | | | | | headache: \n",
            " | | | | | | | 1: \n",
            " | | | | | | | | acidity: \n",
            " | | | | | | | | | 1: Migraine\n",
            " | | | | | | | | | 0: Hypertension \n",
            " | | | | | | | | \n",
            " | | | | | | | \n",
            " | | | | | | | 0: \n",
            " | | | | | | | | neck_pain: \n",
            " | | | | | | | | | 1: \n",
            " | | | | | | | | | | joint_pain: \n",
            " | | | | | | | | | | | 1: Osteoarthristis\n",
            " | | | | | | | | | | | 0: Cervical spondylosis\n",
            " | | | | | | | | | | \n",
            " | | | | | | | | | \n",
            " | | | | | | | | | 0: \n",
            " | | | | | | | | | | continuous_sneezing: \n",
            " | | | | | | | | | | | 1: Allergy\n",
            " | | | | | | | | | | | 0: \n",
            " | | | | | | | | | | | | muscle_wasting: \n",
            " | | | | | | | | | | | | | 1: AIDS\n",
            " | | | | | | | | | | | | | 0: \n",
            " | | | | | | | | | | | | | | burning_micturition: \n",
            " | | | | | | | | | | | | | | | 1: Urinary tract infection\n",
            " | | | | | | | | | | | | | | | 0: \n",
            " | | | | | | | | | | | | | | | | constipation: \n",
            " | | | | | | | | | | | | | | | | | 1: Dimorphic hemmorhoids(piles)\n",
            " | | | | | | | | | | | | | | | | | 0: Arthritis\n",
            " | | | | | | | | | | | | | | | | \n",
            " | | | | | | | | | | | | | | | \n",
            " | | | | | | | | | | | | | | \n",
            " | | | | | | | | | | | | | \n",
            " | | | | | | | | | | | | \n",
            " | | | | | | | | | | | \n",
            " | | | | | | | | | | \n",
            " | | | | | | | | | \n",
            " | | | | | | | | \n",
            " | | | | | | | \n",
            " | | | | | | \n",
            " | | | | | \n",
            " | | | | \n",
            " | | | \n",
            " | | \n",
            " | \n",
            "\n",
            "\n",
            "vomiting\n",
            "1\n",
            "{'nausea': {'1': {'joint_pain': {'1': {'high_fever': {'1': {'skin_rash': {'1': 'Dengue', '0': 'Hepatitis E'}}, '0': {'fatigue': {'1': 'Hepatitis D', '0': 'hepatitis A'}}}}, '0': {'chills': {'1': {'fatigue': {'1': 'Typhoid', '0': 'Malaria'}}, '0': {'itching': {'1': 'Chronic cholestasis', '0': {'fatigue': {'1': 'Hypoglycemia', '0': '(vertigo) Paroymsal  Positional Vertigo'}}}}}}}}, '0': {'abdominal_pain': {'1': {'itching': {'1': 'Jaundice', '0': {'indigestion': {'1': 'Peptic ulcer diseae', '0': 'Alcoholic hepatitis'}}}}, '0': {'cough': {'1': {'chills': {'1': 'Tuberculosis', '0': 'GERD'}}, '0': {'sunken_eyes': {'1': 'Gastroenteritis', '0': {'breathlessness': {'1': 'Heart attack', '0': 'Paralysis (brain hemorrhage)'}}}}}}}}}}\n",
            "nausea\n",
            "0\n",
            "{'abdominal_pain': {'1': {'itching': {'1': 'Jaundice', '0': {'indigestion': {'1': 'Peptic ulcer diseae', '0': 'Alcoholic hepatitis'}}}}, '0': {'cough': {'1': {'chills': {'1': 'Tuberculosis', '0': 'GERD'}}, '0': {'sunken_eyes': {'1': 'Gastroenteritis', '0': {'breathlessness': {'1': 'Heart attack', '0': 'Paralysis (brain hemorrhage)'}}}}}}}}\n",
            "abdominal_pain\n",
            "0\n",
            "{'cough': {'1': {'chills': {'1': 'Tuberculosis', '0': 'GERD'}}, '0': {'sunken_eyes': {'1': 'Gastroenteritis', '0': {'breathlessness': {'1': 'Heart attack', '0': 'Paralysis (brain hemorrhage)'}}}}}}\n",
            "cough\n",
            "0\n",
            "{'sunken_eyes': {'1': 'Gastroenteritis', '0': {'breathlessness': {'1': 'Heart attack', '0': 'Paralysis (brain hemorrhage)'}}}}\n",
            "sunken_eyes\n",
            "0\n",
            "{'breathlessness': {'1': 'Heart attack', '0': 'Paralysis (brain hemorrhage)'}}\n",
            "breathlessness\n",
            "0\n",
            "Paralysis (brain hemorrhage)\n",
            "\n",
            " From sample data given, its predicted that the disease will be  Paralysis (brain hemorrhage)\n"
          ]
        }
      ]
    }
  ]
}